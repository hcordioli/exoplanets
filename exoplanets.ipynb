{
 "cells": [
  {
   "cell_type": "markdown",
   "id": "ce98c78e",
   "metadata": {},
   "source": [
    "Esse notebook é a replicação atualizada do notebook https://www.kaggle.com/code/maurobenjamin/exoplanet-analysis\n",
    "- Ao inves de R, usei Python\n",
    "- O database utilizado é outro e pode ser obtido pelo download do site abaixo:\n",
    "    https://exoplanetarchive.ipac.caltech.edu/cgi-bin/TblView/nph-tblView?app=ExoTbls&config=PSCompPars\n",
    "- As observações técnicas que explicam os dados foram entendidas e mantidas\n",
    "- Alguns charts foram incluídos para melhor entendimento (em Português)"
   ]
  },
  {
   "cell_type": "code",
   "execution_count": 1,
   "id": "e865a81d",
   "metadata": {},
   "outputs": [],
   "source": [
    "import numpy as np\n",
    "import pandas as pd\n",
    "import plotly.express as px"
   ]
  },
  {
   "cell_type": "code",
   "execution_count": 2,
   "id": "0a526430",
   "metadata": {},
   "outputs": [],
   "source": [
    "exop_df = pd.read_csv(\"exoplanetsdata.csv\")"
   ]
  },
  {
   "cell_type": "markdown",
   "id": "beb7b6e4",
   "metadata": {},
   "source": [
    "This file was produced by the NASA Exoplanet Archive  http://exoplanetarchive.ipac.caltech.edu\n",
    "Tue Mar 19 06:16:56 2024\n",
    "User ID:         hcordioli\n",
    "User preference: archive defaults\n",
    "\n",
    "    COLUMN pl_name:        Planet Name\n",
    "    COLUMN hostname:       Host Name\n",
    "    COLUMN sy_snum:        Number of Stars\n",
    "    COLUMN sy_pnum:        Number of Planets\n",
    "    COLUMN discoverymethod: Discovery Method\n",
    "    COLUMN disc_year:      Discovery Year\n",
    "    COLUMN disc_facility:  Discovery Facility\n",
    "    COLUMN pl_controv_flag: Controversial Flag\n",
    "    COLUMN pl_orbper:      Orbital Period [days]\n",
    "    COLUMN pl_orbpererr1:  Orbital Period Upper Unc. [days]\n",
    "    COLUMN pl_orbpererr2:  Orbital Period Lower Unc. [days]\n",
    "    COLUMN pl_orbperlim:   Orbital Period Limit Flag\n",
    "    COLUMN pl_orbsmax:     Orbit Semi-Major Axis [au])\n",
    "    COLUMN pl_orbsmaxerr1: Orbit Semi-Major Axis Upper Unc. [au]\n",
    "    COLUMN pl_orbsmaxerr2: Orbit Semi-Major Axis Lower Unc. [au]\n",
    "    COLUMN pl_orbsmaxlim:  Orbit Semi-Major Axis Limit Flag\n",
    "    COLUMN pl_rade:        Planet Radius [Earth Radius]\n",
    "    COLUMN pl_radeerr1:    Planet Radius Upper Unc. [Earth Radius]\n",
    "    COLUMN pl_radeerr2:    Planet Radius Lower Unc. [Earth Radius]\n",
    "    COLUMN pl_radelim:     Planet Radius Limit Flag\n",
    "    COLUMN pl_radj:        Planet Radius [Jupiter Radius]\n",
    "    COLUMN pl_radjerr1:    Planet Radius Upper Unc. [Jupiter Radius]\n",
    "    COLUMN pl_radjerr2:    Planet Radius Lower Unc. [Jupiter Radius]\n",
    "    COLUMN pl_radjlim:     Planet Radius Limit Flag\n",
    "    COLUMN pl_bmasse:      Planet Mass or Mass*sin(i) [Earth Mass]\n",
    "    COLUMN pl_bmasseerr1:  Planet Mass or Mass*sin(i) [Earth Mass] Upper Unc.\n",
    "    COLUMN pl_bmasseerr2:  Planet Mass or Mass*sin(i) [Earth Mass] Lower Unc.\n",
    "    COLUMN pl_bmasselim:   Planet Mass or Mass*sin(i) [Earth Mass] Limit Flag\n",
    "    COLUMN pl_bmassj:      Planet Mass or Mass*sin(i) [Jupiter Mass]\n",
    "    COLUMN pl_bmassjerr1:  Planet Mass or Mass*sin(i) [Jupiter Mass] Upper Unc.\n",
    "    COLUMN pl_bmassjerr2:  Planet Mass or Mass*sin(i) [Jupiter Mass] Lower Unc.\n",
    "    COLUMN pl_bmassjlim:   Planet Mass or Mass*sin(i) [Jupiter Mass] Limit Flag\n",
    "    COLUMN pl_bmassprov:   Planet Mass or Mass*sin(i) Provenance\n",
    "    COLUMN pl_orbeccen:    Eccentricity\n",
    "    COLUMN pl_orbeccenerr1: Eccentricity Upper Unc.\n",
    "    COLUMN pl_orbeccenerr2: Eccentricity Lower Unc.\n",
    "    COLUMN pl_orbeccenlim: Eccentricity Limit Flag\n",
    "    COLUMN pl_insol:       Insolation Flux [Earth Flux]\n",
    "    COLUMN pl_insolerr1:   Insolation Flux Upper Unc. [Earth Flux]\n",
    "    COLUMN pl_insolerr2:   Insolation Flux Lower Unc. [Earth Flux]\n",
    "    COLUMN pl_insollim:    Insolation Flux Limit Flag\n",
    "    COLUMN pl_eqt:         Equilibrium Temperature [K]\n",
    "    COLUMN pl_eqterr1:     Equilibrium Temperature Upper Unc. [K]\n",
    "    COLUMN pl_eqterr2:     Equilibrium Temperature Lower Unc. [K]\n",
    "    COLUMN pl_eqtlim:      Equilibrium Temperature Limit Flag\n",
    "    COLUMN ttv_flag:       Data show Transit Timing Variations\n",
    "    COLUMN st_spectype:    Spectral Type\n",
    "    COLUMN st_teff:        Stellar Effective Temperature [K]\n",
    "    COLUMN st_tefferr1:    Stellar Effective Temperature Upper Unc. [K]\n",
    "    COLUMN st_tefferr2:    Stellar Effective Temperature Lower Unc. [K]\n",
    "    COLUMN st_tefflim:     Stellar Effective Temperature Limit Flag\n",
    "    COLUMN st_rad:         Stellar Radius [Solar Radius]\n",
    "    COLUMN st_raderr1:     Stellar Radius Upper Unc. [Solar Radius]\n",
    "    COLUMN st_raderr2:     Stellar Radius Lower Unc. [Solar Radius]\n",
    "    COLUMN st_radlim:      Stellar Radius Limit Flag\n",
    "    COLUMN st_mass:        Stellar Mass [Solar mass]\n",
    "    COLUMN st_masserr1:    Stellar Mass Upper Unc. [Solar mass]\n",
    "    COLUMN st_masserr2:    Stellar Mass Lower Unc. [Solar mass]\n",
    "    COLUMN st_masslim:     Stellar Mass Limit Flag\n",
    "    COLUMN st_met:         Stellar Metallicity [dex]\n",
    "    COLUMN st_meterr1:     Stellar Metallicity Upper Unc. [dex]\n",
    "    COLUMN st_meterr2:     Stellar Metallicity Lower Unc. [dex]\n",
    "    COLUMN st_metlim:      Stellar Metallicity Limit Flag\n",
    "    COLUMN st_metratio:    Stellar Metallicity Ratio\n",
    "    COLUMN st_logg:        Stellar Surface Gravity [log10(cm/s**2)]\n",
    "    COLUMN st_loggerr1:    Stellar Surface Gravity Upper Unc. [log10(cm/s**2)]\n",
    "    COLUMN st_loggerr2:    Stellar Surface Gravity Lower Unc. [log10(cm/s**2)]\n",
    "    COLUMN st_logglim:     Stellar Surface Gravity Limit Flag\n",
    "    COLUMN rastr:          RA [sexagesimal]\n",
    "    COLUMN ra:             RA [deg]\n",
    "    COLUMN decstr:         Dec [sexagesimal]\n",
    "    COLUMN dec:            Dec [deg]\n",
    "    COLUMN sy_dist:        Distance [pc]\n",
    "    COLUMN sy_disterr1:    Distance [pc] Upper Unc\n",
    "    COLUMN sy_disterr2:    Distance [pc] Lower Unc\n",
    "    COLUMN sy_vmag:        V (Johnson) Magnitude\n",
    "    COLUMN sy_vmagerr1:    V (Johnson) Magnitude Upper Unc\n",
    "    COLUMN sy_vmagerr2:    V (Johnson) Magnitude Lower Unc\n",
    "    COLUMN sy_kmag:        Ks (2MASS) Magnitude\n",
    "    COLUMN sy_kmagerr1:    Ks (2MASS) Magnitude Upper Unc\n",
    "    COLUMN sy_kmagerr2:    Ks (2MASS) Magnitude Lower Unc\n",
    "    COLUMN sy_gaiamag:     Gaia Magnitude\n",
    "    COLUMN sy_gaiamagerr1: Gaia Magnitude Upper Unc\n",
    "    COLUMN sy_gaiamagerr2: Gaia Magnitude Lower Unc\n"
   ]
  },
  {
   "cell_type": "code",
   "execution_count": 3,
   "id": "de7c5fc6",
   "metadata": {},
   "outputs": [
    {
     "name": "stdout",
     "output_type": "stream",
     "text": [
      "<class 'pandas.core.frame.DataFrame'>\n",
      "RangeIndex: 5470 entries, 0 to 5469\n",
      "Data columns (total 85 columns):\n",
      " #   Column           Non-Null Count  Dtype  \n",
      "---  ------           --------------  -----  \n",
      " 0   pl_name          5470 non-null   object \n",
      " 1   hostname         5470 non-null   object \n",
      " 2   sy_snum          5470 non-null   int64  \n",
      " 3   sy_pnum          5470 non-null   int64  \n",
      " 4   discoverymethod  5470 non-null   object \n",
      " 5   disc_year        5470 non-null   int64  \n",
      " 6   disc_facility    5470 non-null   object \n",
      " 7   facility_type    3747 non-null   float64\n",
      " 8   pl_controv_flag  5470 non-null   int64  \n",
      " 9   pl_orbper        5232 non-null   float64\n",
      " 10  pl_orbpererr1    4753 non-null   float64\n",
      " 11  pl_orbpererr2    4753 non-null   float64\n",
      " 12  pl_orbperlim     5232 non-null   float64\n",
      " 13  pl_orbsmax       5175 non-null   float64\n",
      " 14  pl_orbsmaxerr1   2570 non-null   float64\n",
      " 15  pl_orbsmaxerr2   2570 non-null   float64\n",
      " 16  pl_orbsmaxlim    5176 non-null   float64\n",
      " 17  pl_rade          5452 non-null   float64\n",
      " 18  pl_radeerr1      3768 non-null   float64\n",
      " 19  pl_radeerr2      3768 non-null   float64\n",
      " 20  pl_radelim       5452 non-null   float64\n",
      " 21  pl_radj          5451 non-null   float64\n",
      " 22  pl_radjerr1      3697 non-null   float64\n",
      " 23  pl_radjerr2      3697 non-null   float64\n",
      " 24  pl_radjlim       5451 non-null   float64\n",
      " 25  pl_bmasse        5445 non-null   float64\n",
      " 26  pl_bmasseerr1    2377 non-null   float64\n",
      " 27  pl_bmasseerr2    2377 non-null   float64\n",
      " 28  pl_bmasselim     5445 non-null   float64\n",
      " 29  pl_bmassj        5445 non-null   float64\n",
      " 30  pl_bmassjerr1    2377 non-null   float64\n",
      " 31  pl_bmassjerr2    2377 non-null   float64\n",
      " 32  pl_bmassjlim     5445 non-null   float64\n",
      " 33  pl_bmassprov     5470 non-null   object \n",
      " 34  pl_orbeccen      4722 non-null   float64\n",
      " 35  pl_orbeccenerr1  1541 non-null   float64\n",
      " 36  pl_orbeccenerr2  1541 non-null   float64\n",
      " 37  pl_orbeccenlim   4722 non-null   float64\n",
      " 38  pl_insol         3806 non-null   float64\n",
      " 39  pl_insolerr1     3300 non-null   float64\n",
      " 40  pl_insolerr2     3300 non-null   float64\n",
      " 41  pl_insollim      3806 non-null   float64\n",
      " 42  pl_eqt           4042 non-null   float64\n",
      " 43  pl_eqterr1       1306 non-null   float64\n",
      " 44  pl_eqterr2       1306 non-null   float64\n",
      " 45  pl_eqtlim        4042 non-null   float64\n",
      " 46  ttv_flag         5470 non-null   int64  \n",
      " 47  st_spectype      1930 non-null   object \n",
      " 48  st_teff          5262 non-null   float64\n",
      " 49  st_tefferr1      5098 non-null   float64\n",
      " 50  st_tefferr2      5071 non-null   float64\n",
      " 51  st_tefflim       5262 non-null   float64\n",
      " 52  st_rad           5241 non-null   float64\n",
      " 53  st_raderr1       5081 non-null   float64\n",
      " 54  st_raderr2       5060 non-null   float64\n",
      " 55  st_radlim        5241 non-null   float64\n",
      " 56  st_mass          5466 non-null   float64\n",
      " 57  st_masserr1      5193 non-null   float64\n",
      " 58  st_masserr2      5169 non-null   float64\n",
      " 59  st_masslim       5466 non-null   float64\n",
      " 60  st_met           5048 non-null   float64\n",
      " 61  st_meterr1       4732 non-null   float64\n",
      " 62  st_meterr2       4732 non-null   float64\n",
      " 63  st_metlim        5048 non-null   float64\n",
      " 64  st_metratio      5023 non-null   object \n",
      " 65  st_logg          5234 non-null   float64\n",
      " 66  st_loggerr1      5056 non-null   float64\n",
      " 67  st_loggerr2      5056 non-null   float64\n",
      " 68  st_logglim       5234 non-null   float64\n",
      " 69  rastr            5470 non-null   object \n",
      " 70  ra               5470 non-null   float64\n",
      " 71  decstr           5470 non-null   object \n",
      " 72  dec              5470 non-null   float64\n",
      " 73  sy_dist          5449 non-null   float64\n",
      " 74  sy_disterr1      5343 non-null   float64\n",
      " 75  sy_disterr2      5343 non-null   float64\n",
      " 76  sy_vmag          5262 non-null   float64\n",
      " 77  sy_vmagerr1      5254 non-null   float64\n",
      " 78  sy_vmagerr2      5248 non-null   float64\n",
      " 79  sy_kmag          5266 non-null   float64\n",
      " 80  sy_kmagerr1      5230 non-null   float64\n",
      " 81  sy_kmagerr2      5218 non-null   float64\n",
      " 82  sy_gaiamag       5212 non-null   float64\n",
      " 83  sy_gaiamagerr1   5210 non-null   float64\n",
      " 84  sy_gaiamagerr2   5210 non-null   float64\n",
      "dtypes: float64(71), int64(5), object(9)\n",
      "memory usage: 3.5+ MB\n"
     ]
    }
   ],
   "source": [
    "exop_df.info()"
   ]
  },
  {
   "cell_type": "code",
   "execution_count": 4,
   "id": "b5019f65",
   "metadata": {},
   "outputs": [
    {
     "data": {
      "text/plain": [
       "5441"
      ]
     },
     "execution_count": 4,
     "metadata": {},
     "output_type": "execute_result"
    }
   ],
   "source": [
    "# Filter out the unconfirmed exoplanets\n",
    "exop_df = exop_df.loc[exop_df['pl_controv_flag'] == 0]\n",
    "len(exop_df)"
   ]
  },
  {
   "cell_type": "code",
   "execution_count": 5,
   "id": "be7ee286",
   "metadata": {},
   "outputs": [
    {
     "data": {
      "text/plain": [
       "Index(['Kepler', 'K2', 'Transiting Exoplanet Survey Satellite (TESS)',\n",
       "       'Multiple Observatories', 'La Silla Observatory',\n",
       "       'W. M. Keck Observatory', 'SuperWASP', 'OGLE', 'KMTNet', 'HATSouth',\n",
       "       'HATNet', 'Haute-Provence Observatory', 'Paranal Observatory',\n",
       "       'Anglo-Australian Telescope', 'Lick Observatory',\n",
       "       'Okayama Astrophysical Observatory', 'CoRoT', 'SuperWASP-South',\n",
       "       'Roque de los Muchachos Observatory', 'McDonald Observatory',\n",
       "       'Las Campanas Observatory', 'MOA',\n",
       "       'Bohyunsan Optical Astronomical Observatory', 'Multiple Facilities',\n",
       "       'Calar Alto Observatory', 'Subaru Telescope', 'KELT', 'WASP-South',\n",
       "       'Qatar', 'Gemini Observatory', 'Thueringer Landessternwarte Tautenburg',\n",
       "       'KELT-North', 'XO', 'Hubble Space Telescope',\n",
       "       'Cerro Tololo Inter-American Observatory', 'TrES',\n",
       "       'Fred Lawrence Whipple Observatory', 'SuperWASP-North', 'KELT-South',\n",
       "       'Spitzer Space Telescope', 'Arecibo Observatory',\n",
       "       'Next-Generation Transit Survey (NGTS)',\n",
       "       'CHaracterising ExOPlanets Satellite (CHEOPS)',\n",
       "       'European Southern Observatory', 'Parkes Observatory',\n",
       "       'United Kingdom Infrared Telescope', 'Haleakala Observatory',\n",
       "       'Xinglong Station', 'Lowell Observatory', 'Palomar Observatory',\n",
       "       'MEarth Project', 'European Space Agency (ESA) Gaia Satellite',\n",
       "       'Acton Sky Portal Observatory', 'Winer Observatory',\n",
       "       'Wide-field Infrared Survey Explorer (WISE) Sat',\n",
       "       'NASA Infrared Telescope Facility (IRTF)',\n",
       "       'Yunnan Astronomical Observatory', 'James Webb Space Telescope (JWST)',\n",
       "       'Very Long Baseline Array', 'Teide Observatory',\n",
       "       'SPECULOOS Southern Observatory', 'Mauna Kea Observatory',\n",
       "       'Infrared Survey Facility', 'Leoncito Astronomical Complex',\n",
       "       'Apache Point Observatory', 'Atacama Large Millimeter Array (ALMA)',\n",
       "       'KOINet', 'Kitt Peak National Observatory'],\n",
       "      dtype='object', name='disc_facility')"
      ]
     },
     "execution_count": 5,
     "metadata": {},
     "output_type": "execute_result"
    }
   ],
   "source": [
    "facilities = exop_df['disc_facility'].value_counts().index\n",
    "facilities"
   ]
  },
  {
   "cell_type": "code",
   "execution_count": 7,
   "id": "49720291",
   "metadata": {},
   "outputs": [
    {
     "data": {
      "text/plain": [
       "3735"
      ]
     },
     "execution_count": 7,
     "metadata": {},
     "output_type": "execute_result"
    }
   ],
   "source": [
    "len(exop_df.loc[exop_df['facility_type'] == 1])"
   ]
  },
  {
   "cell_type": "code",
   "execution_count": 10,
   "id": "11641001",
   "metadata": {},
   "outputs": [
    {
     "data": {
      "text/plain": [
       "disc_facility\n",
       "Kepler                                            2769\n",
       "K2                                                 548\n",
       "Transiting Exoplanet Survey Satellite (TESS)       360\n",
       "CoRoT                                               35\n",
       "Gemini Observatory                                   9\n",
       "Hubble Space Telescope                               6\n",
       "Spitzer Space Telescope                              4\n",
       "European Space Agency (ESA) Gaia Satellite           2\n",
       "Wide-field Infrared Survey Explorer (WISE) Sat       1\n",
       "James Webb Space Telescope (JWST)                    1\n",
       "Name: count, dtype: int64"
      ]
     },
     "execution_count": 10,
     "metadata": {},
     "output_type": "execute_result"
    }
   ],
   "source": [
    "exop_df.loc[exop_df['facility_type'] == 1]['disc_facility'].value_counts()"
   ]
  },
  {
   "cell_type": "code",
   "execution_count": 8,
   "id": "3748935a",
   "metadata": {},
   "outputs": [
    {
     "data": {
      "text/plain": [
       "1706"
      ]
     },
     "execution_count": 8,
     "metadata": {},
     "output_type": "execute_result"
    }
   ],
   "source": [
    "len(exop_df.loc[exop_df['facility_type'].isna()])"
   ]
  },
  {
   "cell_type": "code",
   "execution_count": 12,
   "id": "3f7050c5",
   "metadata": {},
   "outputs": [
    {
     "data": {
      "text/plain": [
       "disc_facility\n",
       "Multiple Observatories                          278\n",
       "La Silla Observatory                            270\n",
       "W. M. Keck Observatory                          183\n",
       "SuperWASP                                       113\n",
       "OGLE                                             97\n",
       "KMTNet                                           79\n",
       "HATSouth                                         73\n",
       "HATNet                                           67\n",
       "Haute-Provence Observatory                       64\n",
       "Paranal Observatory                              42\n",
       "Anglo-Australian Telescope                       36\n",
       "Lick Observatory                                 35\n",
       "Okayama Astrophysical Observatory                35\n",
       "SuperWASP-South                                  32\n",
       "Roque de los Muchachos Observatory               30\n",
       "McDonald Observatory                             29\n",
       "Las Campanas Observatory                         29\n",
       "MOA                                              28\n",
       "Bohyunsan Optical Astronomical Observatory       23\n",
       "Multiple Facilities                              18\n",
       "Calar Alto Observatory                           17\n",
       "Subaru Telescope                                 11\n",
       "Qatar                                            10\n",
       "WASP-South                                       10\n",
       "KELT                                             10\n",
       "Thueringer Landessternwarte Tautenburg            8\n",
       "KELT-North                                        7\n",
       "XO                                                7\n",
       "TrES                                              5\n",
       "Fred Lawrence Whipple Observatory                 5\n",
       "SuperWASP-North                                   5\n",
       "Cerro Tololo Inter-American Observatory           5\n",
       "KELT-South                                        4\n",
       "European Southern Observatory                     3\n",
       "CHaracterising ExOPlanets Satellite (CHEOPS)      3\n",
       "Arecibo Observatory                               3\n",
       "Next-Generation Transit Survey (NGTS)             3\n",
       "United Kingdom Infrared Telescope                 2\n",
       "Haleakala Observatory                             2\n",
       "Parkes Observatory                                2\n",
       "Xinglong Station                                  2\n",
       "Lowell Observatory                                2\n",
       "MEarth Project                                    2\n",
       "Acton Sky Portal Observatory                      2\n",
       "Palomar Observatory                               2\n",
       "Kitt Peak National Observatory                    1\n",
       "NASA Infrared Telescope Facility (IRTF)           1\n",
       "Yunnan Astronomical Observatory                   1\n",
       "Very Long Baseline Array                          1\n",
       "Winer Observatory                                 1\n",
       "SPECULOOS Southern Observatory                    1\n",
       "Mauna Kea Observatory                             1\n",
       "Apache Point Observatory                          1\n",
       "Infrared Survey Facility                          1\n",
       "Leoncito Astronomical Complex                     1\n",
       "Atacama Large Millimeter Array (ALMA)             1\n",
       "KOINet                                            1\n",
       "Teide Observatory                                 1\n",
       "Name: count, dtype: int64"
      ]
     },
     "execution_count": 12,
     "metadata": {},
     "output_type": "execute_result"
    }
   ],
   "source": [
    "exop_df.loc[exop_df['facility_type'].isna()]['disc_facility'].value_counts()"
   ]
  },
  {
   "cell_type": "code",
   "execution_count": null,
   "id": "9e95476a",
   "metadata": {},
   "outputs": [],
   "source": []
  },
  {
   "cell_type": "code",
   "execution_count": null,
   "id": "2e6a6248",
   "metadata": {},
   "outputs": [],
   "source": []
  },
  {
   "cell_type": "code",
   "execution_count": null,
   "id": "039288f0",
   "metadata": {},
   "outputs": [],
   "source": [
    "landbased=[\n",
    "       'Multiple Observatories', 'La Silla Observatory',\n",
    "       'W. M. Keck Observatory', 'Haute-Provence Observatory', 'Paranal Observatory',\n",
    "       'Anglo-Australian Telescope', 'Okayama Astrophysical Observatory',\n",
    "       'Lick Observatory', \n",
    "       'Roque de los Muchachos Observatory', 'McDonald Observatory',\n",
    "       'Las Campanas Observatory',\n",
    "       'Bohyunsan Optical Astronomical Observatory', 'Calar Alto Observatory',\n",
    "       'Multiple Facilities',  'Subaru Telescope', 'Gemini Observatory', 'Thueringer Landessternwarte Tautenburg',\n",
    "       'Cerro Tololo Inter-American Observatory',\n",
    "       'Fred Lawrence Whipple Observatory', 'Spitzer Space Telescope', 'Arecibo Observatory',\n",
    "       'European Southern Observatory', 'Lowell Observatory',\n",
    "       'Parkes Observatory',\n",
    "       'Haleakala Observatory', 'United Kingdom Infrared Telescope',\n",
    "       'Palomar Observatory', 'MEarth Project',\n",
    "       'Acton Sky Portal Observatory', 'Winer Observatory',\n",
    "       'NASA Infrared Telescope Facility (IRTF)',\n",
    "       'Yunnan Astronomical Observatory', \n",
    "       'Very Long Baseline Array', 'Teide Observatory',\n",
    "       'Large Binocular Telescope Observatory', 'Mauna Kea Observatory',\n",
    "       'Apache Point Observatory', 'Infrared Survey Facility',\n",
    "       'Leoncito Astronomical Complex',\n",
    "       'Atacama Large Millimeter Array (ALMA)', \n",
    "       'SPECULOOS Southern Observatory', 'Kitt Peak National Observatory',\n",
    "        'SuperWASP', 'OGLE', 'KMTNet', 'HATSouth', 'HATNet', 'MOA', 'WASP-South', 'KELT', 'Qatar', 'XO', 'TrES', \n",
    "        'SuperWASP-North', 'SuperWASP-South', 'KELT-South', 'KELT-North', 'Next-Generation Transit Survey (NGTS)', \n",
    "        'Xinglong Station' 'KOINet', 'MOA','KELT'\n",
    "]"
   ]
  },
  {
   "cell_type": "code",
   "execution_count": null,
   "id": "96a13190",
   "metadata": {},
   "outputs": [],
   "source": [
    "spacecraft=['Kepler', 'K2', 'Transiting Exoplanet Survey Satellite (TESS)', 'CoRoT', \n",
    "       'Hubble Space Telescope', 'CHaracterising ExOPlanets Satellite (CHEOPS)',\n",
    "       'European Space Agency (ESA) Gaia Satellite',\n",
    "       'Wide-field Infrared Survey Explorer (WISE) Sat',\n",
    "       'James Webb Space Telescope (JWST)']"
   ]
  },
  {
   "cell_type": "code",
   "execution_count": null,
   "id": "818b588d",
   "metadata": {},
   "outputs": [],
   "source": [
    "exop_df['facility_type'] = exop_df['disc_facility'].apply(lambda name : \"spacecraft\" if name in spacecraft else \"landbased\")"
   ]
  },
  {
   "cell_type": "code",
   "execution_count": null,
   "id": "32830bc6",
   "metadata": {},
   "outputs": [],
   "source": [
    "exop_df['facility_type'].value_counts()"
   ]
  },
  {
   "cell_type": "code",
   "execution_count": null,
   "id": "086a9eb5",
   "metadata": {},
   "outputs": [],
   "source": []
  },
  {
   "cell_type": "markdown",
   "id": "7724979f",
   "metadata": {},
   "source": [
    "# Discoveries per year"
   ]
  },
  {
   "cell_type": "code",
   "execution_count": null,
   "id": "1dfd0bc1",
   "metadata": {},
   "outputs": [],
   "source": [
    "disc_per_year = exop_df.groupby([\"disc_year\"])[\"pl_name\"].agg(\"count\").reset_index()\n",
    "disc_per_year.rename({'pl_name': 'tally'}, axis=1, inplace=True)\n",
    "fig = px.bar(disc_per_year, x='disc_year', y='tally')\n",
    "fig.show()"
   ]
  },
  {
   "cell_type": "markdown",
   "id": "fed5d9d2",
   "metadata": {},
   "source": [
    "As we can see from the graph, there is a striking peak of discoveries made in 2016. This peak can be attributed to several factors:\n",
    "\n",
    "• Advancements in Technology: The year 2016 saw significant advancements in exoplanet detection technology, particularly with the use of space-based telescopes like Kepler and ground-based telescopes. These improved instruments allowed astronomers to detect and confirm more exoplanets than ever before.\n",
    "\n",
    "• Kepler Space Telescope: The Kepler Space Telescope, launched by NASA in 2009, played a crucial role in the discovery of exoplanets. It used the transit method to detect exoplanets by measuring the slight dimming of a star’s light as a planet passes in front of it. By 2016, Kepler had been in operation for several years and had collected a vast amount of data, leading to a surge in exoplanet discoveries.\n",
    "\n",
    "• Data Analysis Techniques: Over time, astronomers developed more sophisticated data analysis techniques to identify and confirm exoplanets from the vast amount of data collected by telescopes like Kepler. These techniques became more refined by 2016, leading to an increased rate of exoplanet discoveries.\n",
    "\n",
    "• Increased Observing Time: As time went on, telescopes like Kepler had more observing time, allowing them to monitor more stars and planetary systems. The increased observation time led to the detection of more exoplanets.\n",
    "\n",
    "• International Collaboration: The field of exoplanet research saw increased international collaboration among astronomers and research institutions. This collaborative effort helped to identify and confirm exoplanets more efficiently.\n",
    "\n",
    "• Public Interest and Funding: Exoplanet discoveries captured the public’s imagination and garnered significant media attention. The enthusiasm for exoplanet research led to increased funding and support for projects focused on exoplanet detection and exploration."
   ]
  },
  {
   "cell_type": "markdown",
   "id": "48d9773e",
   "metadata": {},
   "source": [
    "## Avaliando o tipo de método usado ao longo do tempo"
   ]
  },
  {
   "cell_type": "code",
   "execution_count": null,
   "id": "e864c3cf",
   "metadata": {},
   "outputs": [],
   "source": [
    "disc_per_year = exop_df.groupby([\"disc_year\",\"discoverymethod\"])[\"pl_name\"].agg(\"count\").reset_index()\n",
    "disc_per_year.rename({'pl_name': 'tally'}, axis=1, inplace=True)\n",
    "fig = px.bar(disc_per_year, x='disc_year', y='tally',color=\"discoverymethod\", title=\"Métodos usados ao longo do tempo\")\n",
    "fig.show()"
   ]
  },
  {
   "cell_type": "markdown",
   "id": "ee7c48c4",
   "metadata": {},
   "source": [
    "A utilização de plotly permite filtrar os métodos mais usados (Fotometria de Trânsito e Velocidade Radial) e entender além deles, quais os mais usados: Microlansing e Imaging"
   ]
  },
  {
   "cell_type": "markdown",
   "id": "e7fdc8c3",
   "metadata": {},
   "source": [
    "# How many discoveries per facility type?\n",
    "To answer this question, I simply created a bar chart showing how many discoveries, since the year 1992, have been made by each type of observatory (land-based and spacecraft):"
   ]
  },
  {
   "cell_type": "code",
   "execution_count": null,
   "id": "308d79d8",
   "metadata": {},
   "outputs": [],
   "source": [
    "disc_per_facility_type = exop_df.groupby([\"facility_type\"])[\"pl_name\"].agg(\"count\").reset_index()\n",
    "disc_per_facility_type.rename({'pl_name': 'tally'}, axis=1, inplace=True)\n",
    "disc_per_facility_type = disc_per_facility_type.sort_values(\"tally\",ascending=False).head(10)\n",
    "fig = px.bar(disc_per_facility_type, x='facility_type', y='tally', title=\"Quantidade de descobetas por Tipo de Site\")\n",
    "fig.show()"
   ]
  },
  {
   "cell_type": "code",
   "execution_count": null,
   "id": "7cfd6350",
   "metadata": {},
   "outputs": [],
   "source": [
    "disc_per_facility_type = exop_df.groupby([\"disc_facility\"])[\"pl_name\"].agg(\"count\").reset_index()\n",
    "disc_per_facility_type.rename({'pl_name': 'tally'}, axis=1, inplace=True)\n",
    "disc_per_facility_type = disc_per_facility_type.sort_values(\"tally\",ascending=False).head(10)\n",
    "fig = px.bar(disc_per_facility_type, x='disc_facility', y='tally', title=\"Quantidade de descobetas por Site\")\n",
    "#fig = px.pie(disc_per_facility_type, values='tally', names='disc_facility', title='Quantidade de descobetas por Site')\n",
    "fig.show()"
   ]
  },
  {
   "cell_type": "code",
   "execution_count": null,
   "id": "b071bb4a",
   "metadata": {},
   "outputs": [],
   "source": [
    "disc_per_facility_type = exop_df.groupby([\"facility_type\"])[\"pl_name\"].agg(\"count\").reset_index()\n",
    "disc_per_facility_type.rename({'pl_name': 'tally'}, axis=1, inplace=True)\n",
    "disc_per_facility_type = disc_per_facility_type.sort_values(\"tally\",ascending=False).head(10)\n",
    "fig = px.pie(disc_per_facility_type, values='tally', names='facility_type', title='Quantidade de descobetas por Tipo de Site')\n",
    "fig.show()"
   ]
  },
  {
   "cell_type": "markdown",
   "id": "a0b44c70",
   "metadata": {},
   "source": [
    "## Tipo de método por tipo de facility"
   ]
  },
  {
   "cell_type": "code",
   "execution_count": null,
   "id": "b493155e",
   "metadata": {
    "cell_style": "split"
   },
   "outputs": [],
   "source": [
    "spacec_df = exop_df.loc[exop_df['facility_type'] == \"spacecraft\"].groupby([\"discoverymethod\"])['pl_name'].agg(\"count\").reset_index()\n",
    "spacec_df.rename({'pl_name': 'tally'}, axis=1, inplace=True)\n",
    "spacec_df = spacec_df.sort_values(\"tally\",ascending=False).head(10)\n",
    "fig = px.pie(spacec_df, values='tally', names='discoverymethod', title='Métodos usados em Spacecrafts')\n",
    "fig.show()"
   ]
  },
  {
   "cell_type": "code",
   "execution_count": null,
   "id": "4f2f6a99",
   "metadata": {
    "cell_style": "split"
   },
   "outputs": [],
   "source": [
    "landb_df = exop_df.loc[exop_df['facility_type'] == \"landbased\"].groupby([\"discoverymethod\"])['pl_name'].agg(\"count\").reset_index()\n",
    "landb_df.rename({'pl_name': 'tally'}, axis=1, inplace=True)\n",
    "landb_df = landb_df.sort_values(\"tally\",ascending=False).head(10)\n",
    "fig = px.pie(landb_df, values='tally', names='discoverymethod', title='Métodos usados em Landbased')\n",
    "fig.show()"
   ]
  },
  {
   "cell_type": "markdown",
   "id": "c22dd725",
   "metadata": {},
   "source": [
    "# 3. Average distance of discovered exoplanets\n",
    "In reality, despite the impressive number of discoveries, compared to a galactic scale, we have only detected planets that lie in our close neighborhood. To give an idea of the scales involved, let us consider that the diameter of our galaxy (the Milky Way) is approx. 32,500 parsecs, or 32.5 kpc. As we will see, the average distance of detected planets orbiting other stars is floating around 1,000 pc, a mere 3% of the total diameter of our galaxy.\n",
    "Of course it is! Stars are so bright that outshine planets around them. Therefore, detection of exoplanets is far from being an easy task. Having said that, the discovery of more than 5,000 exoplanets in our neighborhood encourages the idea that our galaxy, populated by a majority of stars that are not so different from our Sun, thrives with planets of all sorts.\n",
    "Let R calculate the average distance of the detected exoplanets:"
   ]
  },
  {
   "cell_type": "code",
   "execution_count": null,
   "id": "2a6528e2",
   "metadata": {},
   "outputs": [],
   "source": [
    "average_distance = round(exop_df['sy_dist'].mean(),2)\n",
    "print (f\"Average distance in parsecs from all Exoplanets to the Earth is {average_distance} pc\")\n",
    "print (f\"Average distance in light years from all Exoplanets to the Earth is {round((average_distance * 3.26),2)} pc\")\n"
   ]
  },
  {
   "cell_type": "markdown",
   "id": "92de33e5",
   "metadata": {},
   "source": [
    "# 4. Which star temperatures (or star classes) host the majority of detected exoplanets?\n",
    "This is an interesting question, because it gives us an idea of where to point our telescopes for finding exoplanets. In other words, which type of star to choose that can be a reasonable candidate for a planetary system.\n",
    "In order to extract the information, I first had to clean the dataset, because there were several rows with no information about the star temperature. Allowing empty rows to be included would have contaminated the analysis with spurious counts that the system would not have been able to allocate. Therefore, here’s the purging and the creation of a new dataset called filtered2_exoplanets:"
   ]
  },
  {
   "cell_type": "code",
   "execution_count": null,
   "id": "a887223b",
   "metadata": {},
   "outputs": [],
   "source": [
    "exop_df['st_spectype'].value_counts()"
   ]
  },
  {
   "cell_type": "code",
   "execution_count": null,
   "id": "6ed75361",
   "metadata": {},
   "outputs": [],
   "source": [
    "exop_df['st_teff'].describe()"
   ]
  },
  {
   "cell_type": "code",
   "execution_count": null,
   "id": "706b830d",
   "metadata": {},
   "outputs": [],
   "source": [
    "temp_df = exop_df[exop_df[['st_teff']].notnull().all(1)]\n",
    "temp_df['st_teff'].describe()"
   ]
  },
  {
   "cell_type": "code",
   "execution_count": null,
   "id": "c1fcc3d8",
   "metadata": {},
   "outputs": [],
   "source": [
    "# create the bins\n",
    "hist, bin_edges = np.histogram(exop_df['st_teff'], bins = [temp_df['st_teff'].min(), 1000, 2000, 3000, 4000, 5000, \n",
    "                                                           6000, 7000, 8000,\n",
    "                                                           9000, 10000, 11000, \n",
    "                                                           22000, 29000, temp_df['st_teff'].max()])\n",
    "\n",
    "bin_edges = bin_edges[1:len(bin_edges)]"
   ]
  },
  {
   "cell_type": "code",
   "execution_count": null,
   "id": "3a5ddc40",
   "metadata": {},
   "outputs": [],
   "source": [
    "fig = px.bar(x=bin_edges, y=hist, labels={'x':'temperature', 'y':'count'},color=bin_edges)\n",
    "fig.show()"
   ]
  },
  {
   "cell_type": "markdown",
   "id": "4d5879b5",
   "metadata": {},
   "source": [
    "This graph tells us something strikingly important: the majority of stars hosting discovered exoplanets lies in the 5000K-6000K temperature range. And guess what? Our Sun’s effective temperature is approx. 5,800K ! This fact proves (albeit, as already mentioned, we have only probed our immediate neighborhood) that, in our galaxy (and presumably in all galaxies), most of the sun-like stars have a high probability to host a planetary system. That is a good hint for where to point our telescopes!"
   ]
  },
  {
   "cell_type": "markdown",
   "id": "7eedf4dd",
   "metadata": {},
   "source": [
    "# 5. Distribution of planets radii per facility type\n",
    "Planets come in various sizes and densities. There are earth-like rocky planets, gas giants and so forth.\n",
    "It is interesting to analyse what planet sizes have been mostly discovered by each facility type (Earth or space), and we shall see a confirmation of the graphs that showed the methods of detection:\n"
   ]
  },
  {
   "cell_type": "code",
   "execution_count": null,
   "id": "97ad66ed",
   "metadata": {},
   "outputs": [],
   "source": [
    "# COLUMN pl_rade:        Planet Radius [Earth Radius]\n",
    "exop_df['pl_rade'].describe()"
   ]
  },
  {
   "cell_type": "code",
   "execution_count": null,
   "id": "97b0b280",
   "metadata": {},
   "outputs": [],
   "source": [
    "fig = px.box(exop_df, x=\"facility_type\", y=\"pl_rade\", points=\"all\")\n",
    "fig.show()"
   ]
  },
  {
   "cell_type": "markdown",
   "id": "3fa246fc",
   "metadata": {},
   "source": [
    "Resposta original (resultados opostos a este)\n",
    "\n",
    "    As we can see from the graph above, there is a high density distribution of earths and super-earths detected by land-based observatories, and a dense distribution of giants made by facilities in space.\n",
    "    This fact is not surprising, because the transit method, mostly used in space, works much better when the planet’s size is large enough to produce a significant dip in the hosting star’s luminosity, during a transit. On the other hand, the radial velocity method, which detects the wobble of the star as the planet orbits around the common center of gravity, is more accurate for the detection of smaller planets, like earth-like, rocky planets.\n"
   ]
  },
  {
   "cell_type": "markdown",
   "id": "eda87abe",
   "metadata": {},
   "source": [
    "# 6. Exoplanets density distribution\n",
    "The columns in the dataset related to planet’s radius (pl_rade) and the planet’s mass (pl_bmasse) are very well populated. However, a few rows contained no data. This led me to the decision of deleting those rows without data, because it would affect the calculations: density = mass / volume. Furthermore, either the radii and the masses are expressed in Earth’s radius and mass respectively. Therefore, I transformed each value into the SI system (m and kg) in order to yield a comprehensible density data."
   ]
  },
  {
   "cell_type": "code",
   "execution_count": null,
   "id": "7713866c",
   "metadata": {},
   "outputs": [],
   "source": [
    "density_df = exop_df.dropna(subset = ['pl_rade', 'pl_bmasse']).copy()"
   ]
  },
  {
   "cell_type": "code",
   "execution_count": null,
   "id": "1c058533",
   "metadata": {},
   "outputs": [],
   "source": [
    "earth_radius_m = 6371000.0 # Earth's radius in m\n",
    "earth_mass_kg  = 5.972e24 # Earth's mass in kg\n",
    "\n",
    "density_df['pl_density'] = density_df.apply(lambda planet: (planet.pl_bmasse * earth_mass_kg)/((planet.pl_rade * earth_radius_m)**3 * (4 * np.pi/3)),axis=1)\n"
   ]
  },
  {
   "cell_type": "code",
   "execution_count": null,
   "id": "60037173",
   "metadata": {},
   "outputs": [],
   "source": [
    "density_df['pl_density'].describe()"
   ]
  },
  {
   "cell_type": "code",
   "execution_count": null,
   "id": "f7a0b5a0",
   "metadata": {},
   "outputs": [],
   "source": [
    "# create the bins\n",
    "hist, bin_edges = np.histogram(density_df['pl_density'], \n",
    "                               bins = [0, 1000, 2000, 3000, 4000, 5000,\n",
    "                                       6000, 7000, 8000,9000, 10000, 11000, \n",
    "                                       22000, 29000, 40000])\n",
    "\n",
    "bin_edges_x = bin_edges[1:len(bin_edges)]\n",
    "fig = px.bar(x=bin_edges_x, y=hist, labels={'x':'density', 'y':'count'},color=bin_edges_x)\n",
    "fig.show()"
   ]
  },
  {
   "cell_type": "code",
   "execution_count": null,
   "id": "f1c43cae",
   "metadata": {},
   "outputs": [],
   "source": [
    "earth_density = round(earth_mass_kg / (earth_radius_m ** 3 * (4*np.pi)/3),2)\n",
    "print (f\"Densidade da terra é de {earth_density} kg/m3\")"
   ]
  },
  {
   "cell_type": "markdown",
   "id": "adb40aab",
   "metadata": {},
   "source": [
    "There is an obvious preponderance of low density exoplanets discovered. That is hardly surprising, since low density planets are generally gas giants, much easier to detect because they cause a large dip in the light curves during a transit, or make the star wobble more consistently (they have a low density but an impressive overall mass).\n",
    "Let us point out something here:\n",
    "\n",
    "- the density of rocks ranges between 2,600 and 3,000 kg m-3\n",
    "- beyond 3,000 kg m-3 is the reign of metals and other heavier elements, or state of matter\n",
    "- the density of gases is 2,000 kg m-3 or less\n",
    "\n",
    "\n",
    "Exoplanets with densities over 10,000 kg per cubic meter are considered to be unusually dense, compared to typical planets in our solar system, which have densities ranging from around 1,000 kg per cubic meter for gas giants to around 5,500 kg per cubic meter for rocky planets like Earth.\n",
    "\n",
    "The high densities of some exoplanets can be attributed to several factors:\n",
    "\n",
    "\n",
    "Massive Cores: Exoplanets with extremely high densities often have massive and compact cores made of heavy elements. These cores can be composed of materials such as iron, nickel, and other dense metals, resulting in a higher overall density for the planet.:\n",
    "\n",
    "High Pressure and Temperature: Some exoplanets are located very close to their host stars, in what is known as the “hot Jupiter” region. The intense heat and pressure in such environments can compress the planetary material, increasing its density.:\n",
    "\n",
    "Tidally Locked Planets: Some exoplanets are tidally locked, meaning one side always faces their host star while the other side remains in permanent darkness. This extreme temperature difference between the two sides can cause unique atmospheric and geological conditions that might lead to higher density.:\n",
    "\n",
    "Formation and Evolution: The formation and evolution of exoplanets can influence their density. Certain types of planet formation processes, such as accretion of heavy materials or collisions with other celestial bodies, could result in higher density compositions.:\n",
    "\n",
    "Composition and Elemental Abundances: The composition of an exoplanet, including the abundance of heavy elements, can significantly impact its density. Planets with a higher concentration of heavy elements in their composition will generally have higher densities.:\n",
    "\n",
    "Extreme Gravitational Forces: Exoplanets in close orbits around very massive stars or in densely packed planetary systems can experience strong gravitational forces, which may contribute to higher densities.:\n",
    "\n",
    "\n",
    "It is important to remember that our understanding of exoplanets is still evolving, and the study of exoplanetary systems is an active area of research. The discovery of exoplanets with extremely high densities challenges our current models of planetary formation and evolution and provides exciting opportunities for further exploration and investigation."
   ]
  },
  {
   "cell_type": "code",
   "execution_count": null,
   "id": "ebeac244",
   "metadata": {},
   "outputs": [],
   "source": []
  }
 ],
 "metadata": {
  "kernelspec": {
   "display_name": "structd",
   "language": "python",
   "name": "structd"
  },
  "language_info": {
   "codemirror_mode": {
    "name": "ipython",
    "version": 3
   },
   "file_extension": ".py",
   "mimetype": "text/x-python",
   "name": "python",
   "nbconvert_exporter": "python",
   "pygments_lexer": "ipython3",
   "version": "3.11.7"
  }
 },
 "nbformat": 4,
 "nbformat_minor": 5
}
